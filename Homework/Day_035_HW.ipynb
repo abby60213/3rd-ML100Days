{
 "cells": [
  {
   "cell_type": "markdown",
   "metadata": {},
   "source": [
    "## 練習時間\n",
    "相信大家對回歸問題及分類問題都有初步的了解。今天的作業希望大家搜尋有關 multi-label 的案例問題。下圖是電影 \"奇異博士\" 的分類。可以看到同時有 \"Action\", \"Adventure\", \"Fantasy\" 的類別存在，代表這是個多標籤的問題。 "
   ]
  },
  {
   "cell_type": "markdown",
   "metadata": {},
   "source": [
    "Multi-label text classification with sklearn¶\n",
    "https://www.kaggle.com/roccoli/multi-label-classification-with-sklearn\n",
    "\n",
    "資料來源 : kaggle競賽提供 - data source : Questions from Cross Validated Stack Exchange\n",
    "\n",
    "目標 : 一篇文章會可能有多個不同的tag，希望能預測新一篇文章會有哪些tag\n",
    "\n",
    "演算法 : MultinomialNB, SGDClassifier, LogisticRegression, from sklearn.multiclass import OneVsRestClassifier\n",
    "\n",
    "評估指標 : Hamming score Compute the Hamming score (a.k.a. label-based accuracy) for the multi-label case :\n",
    "\n",
    "http://stackoverflow.com/q/32239577/395857\n",
    "\n",
    "多標籤問題 - Kaggle的競賽\n",
    "Yelp Restaurant Photo Classification 資料來源為Yelp社群用戶上傳之餐廳照片，用戶會在上傳照片的同時給他們一些標註\n",
    "\n",
    "目標是希望能夠過照片就知道這是一間怎麼樣的餐廳，總共有如下幾類:\n",
    "\n",
    "good for lunch\n",
    "\n",
    "good for dinner\n",
    "\n",
    "takes reservations\n",
    "\n",
    "outdoor seating\n",
    "\n",
    "restaurant is expensive\n",
    "\n",
    "has alcohol\n",
    "\n",
    "has table service"
   ]
  },
  {
   "cell_type": "markdown",
   "metadata": {},
   "source": [
    "![image](https://cdn-images-1.medium.com/max/1000/1*r0gYXMSQf5VhdMyl2bRDyg.png)"
   ]
  },
  {
   "cell_type": "markdown",
   "metadata": {},
   "source": [
    "## 請搜尋目標為多標籤問題 (Multi-label) 的機器學習案例，了解其資料來源、目標以及評估指標為何\n",
    "## Hint: 服飾"
   ]
  }
 ],
 "metadata": {
  "kernelspec": {
   "display_name": "Python 3",
   "language": "python",
   "name": "python3"
  },
  "language_info": {
   "codemirror_mode": {
    "name": "ipython",
    "version": 3
   },
   "file_extension": ".py",
   "mimetype": "text/x-python",
   "name": "python",
   "nbconvert_exporter": "python",
   "pygments_lexer": "ipython3",
   "version": "3.7.3"
  }
 },
 "nbformat": 4,
 "nbformat_minor": 2
}
